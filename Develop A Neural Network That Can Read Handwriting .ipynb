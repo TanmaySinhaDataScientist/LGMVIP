{
 "cells": [
  {
   "cell_type": "markdown",
   "id": "da0d43b5",
   "metadata": {},
   "source": [
    "# LGM VIP in Data Science\n",
    "\n",
    "\n",
    "\n",
    "\n",
    "# AUTHOR : Tanmay Sinha\n"
   ]
  },
  {
   "cell_type": "markdown",
   "id": "07368979",
   "metadata": {},
   "source": [
    "# (03) ADVANCED LEVEL TASK\n",
    "## (1) Develop A Neural Network That Can Read Handwriting :-\n",
    "### Begin your neural network machine learning project with the MNIST\n",
    "### Handwritten Digit Classification Challenge and using Tensorflow and CNN. It\n",
    "### has a very user-friendly interface that’s ideal for beginners. Dataset can be seen\n",
    "### on MNIST or can find here.\n",
    "\n",
    "\n",
    "### Watch Tutorial from here\n",
    "\n",
    "https://youtu.be/CBCfOTePVPo"
   ]
  },
  {
   "cell_type": "markdown",
   "id": "6a6ec820",
   "metadata": {},
   "source": [
    "# Importing Packages"
   ]
  },
  {
   "cell_type": "code",
   "execution_count": 1,
   "id": "cd8abf0f",
   "metadata": {},
   "outputs": [],
   "source": [
    "import tensorflow as tf\n",
    "import numpy as np\n",
    "from matplotlib import pyplot as plt\n",
    "import seaborn as sns"
   ]
  },
  {
   "cell_type": "markdown",
   "id": "dcfa04fe",
   "metadata": {},
   "source": [
    "# Loading Dataset"
   ]
  },
  {
   "cell_type": "code",
   "execution_count": 2,
   "id": "de575979",
   "metadata": {},
   "outputs": [],
   "source": [
    "(x_train,y_train),(x_test,y_test)=tf.keras.datasets.mnist.load_data()"
   ]
  },
  {
   "cell_type": "code",
   "execution_count": 3,
   "id": "c5d894ba",
   "metadata": {},
   "outputs": [
    {
     "name": "stderr",
     "output_type": "stream",
     "text": [
      "d:\\python\\lib\\site-packages\\seaborn\\_decorators.py:36: FutureWarning: Pass the following variable as a keyword arg: x. From version 0.12, the only valid positional argument will be `data`, and passing other arguments without an explicit keyword will result in an error or misinterpretation.\n",
      "  warnings.warn(\n"
     ]
    },
    {
     "data": {
      "text/plain": [
       "<AxesSubplot:ylabel='count'>"
      ]
     },
     "execution_count": 3,
     "metadata": {},
     "output_type": "execute_result"
    },
    {
     "data": {
      "image/png": "[encoded data removed]",
      "text/plain": [
       "<Figure size 720x576 with 1 Axes>"
      ]
     },
     "metadata": {
      "needs_background": "light"
     },
     "output_type": "display_data"
    }
   ],
   "source": [
    "plt.figure(figsize = (10,8))\n",
    "sns.countplot(y_train)"
   ]
  },
  {
   "cell_type": "markdown",
   "id": "dd652cf2",
   "metadata": {},
   "source": [
    "\n",
    "# Dataset properties"
   ]
  },
  {
   "cell_type": "code",
   "execution_count": 3,
   "id": "8ff30e5d",
   "metadata": {},
   "outputs": [
    {
     "data": {
      "image/png": "[encoded data removed]",
      "text/plain": [
       "<Figure size 720x288 with 5 Axes>"
      ]
     },
     "metadata": {
      "needs_background": "light"
     },
     "output_type": "display_data"
    }
   ],
   "source": [
    "# Display some images\n",
    "fig, axes = plt.subplots(ncols=5, sharex=False, \n",
    "    sharey=True, figsize=(10, 4))\n",
    "for i in range(5):\n",
    "    axes[i].set_title(y_train[i])\n",
    "    axes[i].imshow(x_train[i], cmap='gray_r')\n",
    "    axes[i].get_xaxis().set_visible(False)\n",
    "    axes[i].get_yaxis().set_visible(False)\n",
    "plt.show()"
   ]
  },
  {
   "cell_type": "markdown",
   "id": "5210d9f4",
   "metadata": {},
   "source": [
    "\n",
    "# Pre-processing the data"
   ]
  },
  {
   "cell_type": "code",
   "execution_count": 4,
   "id": "3a286195",
   "metadata": {},
   "outputs": [
    {
     "name": "stdout",
     "output_type": "stream",
     "text": [
      "Training images shape :  (60000, 28, 28)\n",
      "Testing images shape :  (10000, 28, 28)\n"
     ]
    }
   ],
   "source": [
    "print('Training images shape : ',x_train.shape)\n",
    "print('Testing images shape : ',x_test.shape)"
   ]
  },
  {
   "cell_type": "code",
   "execution_count": 5,
   "id": "15d1ea85",
   "metadata": {},
   "outputs": [],
   "source": [
    "x_train = x_train.reshape(x_train.shape[0], 28, 28, 1)\n",
    "x_test = x_test.reshape(x_test.shape[0], 28, 28, 1)\n",
    "input_shape = (28, 28, 1)"
   ]
  },
  {
   "cell_type": "code",
   "execution_count": 6,
   "id": "bf7ca90a",
   "metadata": {},
   "outputs": [],
   "source": [
    "#applying normalization\n",
    "x_train=x_train/255.0\n",
    "x_testg=x_test/255.0\n",
    "num_classes = 10"
   ]
  },
  {
   "cell_type": "markdown",
   "id": "3ddc3769",
   "metadata": {},
   "source": [
    "\n",
    "\n",
    "# Creating the model\n",
    "\n",
    "# Model Architecture\n",
    "\n",
    "### We will have to first build the model architecture and define it based on our dataset. We are going to add the following layers:\n",
    "\n",
    "#### Conv2D - for the convolution layers\n",
    "#### Dropout - to prevent overfitting\n",
    "#### Dense - a fully connected layer\n",
    "#### Softmax activation - This is used to convert all predictions into probability\n",
    "\n",
    "\n",
    "#### The model architecture can be tuned to get optimal performance\n",
    "\n",
    "#### so i am goimg to create a model with CNN + Three layers + relu + (3,3) kernel_size + Dropout rate (0.3)"
   ]
  },
  {
   "cell_type": "code",
   "execution_count": 7,
   "id": "1a0198c2",
   "metadata": {},
   "outputs": [],
   "source": [
    "from tensorflow.keras.models import Sequential\n",
    "from tensorflow.keras.layers import Dense, Dropout, Flatten,Activation\n",
    "from tensorflow.keras.layers import Conv2D,MaxPooling2D\n",
    "from tensorflow.keras.layers import BatchNormalization"
   ]
  },
  {
   "cell_type": "code",
   "execution_count": 8,
   "id": "bdf9aa00",
   "metadata": {},
   "outputs": [],
   "source": [
    "model = Sequential()\n",
    "\n",
    "model.add(Conv2D(128, kernel_size=(3, 3),\n",
    "                 activation=tf.nn.relu,\n",
    "                 input_shape=input_shape))\n",
    "model.add(BatchNormalization())\n",
    "model.add(Dropout(0.3))\n",
    "\n",
    "model.add(Conv2D(64, (3, 3), activation=tf.nn.relu))\n",
    "model.add(BatchNormalization())\n",
    "model.add(Dropout(0.3))\n",
    "\n",
    "model.add(Conv2D(32, (3, 3), activation=tf.nn.relu))\n",
    "model.add(BatchNormalization())\n",
    "model.add(Dropout(0.3))\n",
    "\n",
    "\n",
    "model.add(MaxPooling2D(pool_size=(2, 2)))\n",
    "model.add(Dropout(0.3))\n",
    "model.add(Flatten())\n",
    "model.add(Dense(128, activation=tf.nn.relu))\n",
    "model.add(Dropout(0.3))\n",
    "model.add(Dense(num_classes, activation=tf.nn.softmax))"
   ]
  },
  {
   "cell_type": "code",
   "execution_count": 10,
   "id": "1bbc421e",
   "metadata": {},
   "outputs": [
    {
     "name": "stdout",
     "output_type": "stream",
     "text": [
      "Model: \"sequential\"\n",
      "_________________________________________________________________\n",
      "Layer (type)                 Output Shape              Param #   \n",
      "=================================================================\n",
      "conv2d (Conv2D)              (None, 26, 26, 128)       1280      \n",
      "_________________________________________________________________\n",
      "batch_normalization (BatchNo (None, 26, 26, 128)       512       \n",
      "_________________________________________________________________\n",
      "dropout (Dropout)            (None, 26, 26, 128)       0         \n",
      "_________________________________________________________________\n",
      "conv2d_1 (Conv2D)            (None, 24, 24, 64)        73792     \n",
      "_________________________________________________________________\n",
      "batch_normalization_1 (Batch (None, 24, 24, 64)        256       \n",
      "_________________________________________________________________\n",
      "dropout_1 (Dropout)          (None, 24, 24, 64)        0         \n",
      "_________________________________________________________________\n",
      "conv2d_2 (Conv2D)            (None, 22, 22, 32)        18464     \n",
      "_________________________________________________________________\n",
      "batch_normalization_2 (Batch (None, 22, 22, 32)        128       \n",
      "_________________________________________________________________\n",
      "dropout_2 (Dropout)          (None, 22, 22, 32)        0         \n",
      "_________________________________________________________________\n",
      "max_pooling2d (MaxPooling2D) (None, 11, 11, 32)        0         \n",
      "_________________________________________________________________\n",
      "dropout_3 (Dropout)          (None, 11, 11, 32)        0         \n",
      "_________________________________________________________________\n",
      "flatten (Flatten)            (None, 3872)              0         \n",
      "_________________________________________________________________\n",
      "dense (Dense)                (None, 128)               495744    \n",
      "_________________________________________________________________\n",
      "dropout_4 (Dropout)          (None, 128)               0         \n",
      "_________________________________________________________________\n",
      "dense_1 (Dense)              (None, 10)                1290      \n",
      "=================================================================\n",
      "Total params: 591,466\n",
      "Trainable params: 591,018\n",
      "Non-trainable params: 448\n",
      "_________________________________________________________________\n"
     ]
    }
   ],
   "source": [
    "\n",
    "model.summary()"
   ]
  },
  {
   "cell_type": "code",
   "execution_count": 9,
   "id": "5d0099f9",
   "metadata": {},
   "outputs": [
    {
     "name": "stdout",
     "output_type": "stream",
     "text": [
      "('You must install pydot (`pip install pydot`) and install graphviz (see instructions at https://graphviz.gitlab.io/download/) ', 'for plot_model/model_to_dot to work.')\n"
     ]
    }
   ],
   "source": [
    "from tensorflow.keras.utils import plot_model\n",
    "plot_model(model, show_shapes=True, to_file='model.png')"
   ]
  },
  {
   "cell_type": "markdown",
   "id": "e619c6b2",
   "metadata": {},
   "source": [
    "# Train the model"
   ]
  },
  {
   "cell_type": "code",
   "execution_count": null,
   "id": "688f46b7",
   "metadata": {},
   "outputs": [
    {
     "name": "stdout",
     "output_type": "stream",
     "text": [
      "Epoch 1/10\n",
      " 312/1688 [====>.........................] - ETA: 5:20 - loss: 0.6402 - accuracy: 0.8102"
     ]
    }
   ],
   "source": [
    "model.compile(optimizer='adam', \n",
    "              loss='sparse_categorical_crossentropy', \n",
    "              metrics=['accuracy'])\n",
    "history=model.fit(x=x_train,\n",
    "                  y=y_train,\n",
    "                  validation_split=0.1,\n",
    "                  epochs=10)"
   ]
  },
  {
   "cell_type": "code",
   "execution_count": null,
   "id": "eb6cd80e",
   "metadata": {},
   "outputs": [],
   "source": [
    "model.save('project.h5')"
   ]
  },
  {
   "cell_type": "code",
   "execution_count": null,
   "id": "5ebb29ef",
   "metadata": {},
   "outputs": [],
   "source": [
    "from tensorflow.keras.models import load_model\n",
    "model = load_model('project.h5')"
   ]
  },
  {
   "cell_type": "markdown",
   "id": "b5526933",
   "metadata": {},
   "source": [
    "\n",
    "# Evaluate the model"
   ]
  },
  {
   "cell_type": "code",
   "execution_count": null,
   "id": "3fadc403",
   "metadata": {},
   "outputs": [],
   "source": [
    "loss_and_acc=model.evaluate(x_test,y_test)\n",
    "print(\"Test Loss\", loss_and_acc[0])\n",
    "print(\"Test Accuracy\", loss_and_acc[1])"
   ]
  },
  {
   "cell_type": "code",
   "execution_count": null,
   "id": "fa09cb24",
   "metadata": {},
   "outputs": [],
   "source": [
    "acc = history.history['accuracy']\n",
    "val_acc = history.history['val_accuracy']\n",
    "loss = history.history['loss']\n",
    "val_loss = history.history['val_loss']\n",
    "epochs = range(len(acc))\n",
    "\n",
    "fig, ax = plt.subplots(nrows=1, ncols=2, figsize=(20, 6))\n",
    "ax[0].plot(epochs, acc, 'r', label='Training accuracy')\n",
    "ax[0].plot(epochs, val_acc, 'b', label='Validation accuracy')\n",
    "ax[0].legend(loc=0)\n",
    "ax[1].plot(epochs, loss, 'r', label='Training loss')\n",
    "ax[1].plot(epochs, val_loss, 'b', label='Validation loss')\n",
    "ax[1].legend(loc=0)\n",
    "\n",
    "plt.suptitle('Training and validation')\n",
    "plt.show()"
   ]
  },
  {
   "cell_type": "markdown",
   "id": "bf8564e9",
   "metadata": {},
   "source": [
    "\n",
    "\n",
    "# Confusion Matrix"
   ]
  },
  {
   "cell_type": "code",
   "execution_count": null,
   "id": "2797a51f",
   "metadata": {},
   "outputs": [],
   "source": [
    "y_predicted = model.predict(x_test)\n",
    "y_predicted_labels = [np.argmax(i) for i in y_predicted]\n",
    "cm = tf.math.confusion_matrix(labels=y_test,predictions=y_predicted_labels)\n",
    "cm"
   ]
  },
  {
   "cell_type": "code",
   "execution_count": null,
   "id": "84efa521",
   "metadata": {},
   "outputs": [],
   "source": [
    "plt.figure(figsize = (10,7))\n",
    "sns.heatmap(cm, annot=True, fmt='d', cmap = 'YlGnBu')\n",
    "plt.xlabel('Predicted')\n",
    "plt.ylabel('Truth')"
   ]
  },
  {
   "cell_type": "markdown",
   "id": "c1b17260",
   "metadata": {},
   "source": [
    "# Testing the Model"
   ]
  },
  {
   "cell_type": "code",
   "execution_count": null,
   "id": "46dab28b",
   "metadata": {},
   "outputs": [],
   "source": [
    "plt.imshow(x_test[0],cmap='gray_r')\n",
    "plt.title('Actual Value: {}'.format(y_test[0]))\n",
    "prediction=model.predict(x_test)\n",
    "\n",
    "plt.axis('off')\n",
    "print('Predicted Value: ',np.argmax(prediction[0]))\n",
    "if(y_test[0]==(np.argmax(prediction[0]))):\n",
    "  print('Successful prediction')\n",
    "else:\n",
    "  print('Unsuccessful prediction')"
   ]
  },
  {
   "cell_type": "code",
   "execution_count": null,
   "id": "982fe2d2",
   "metadata": {},
   "outputs": [],
   "source": [
    "plt.imshow(x_test[1],cmap='gray_r')\n",
    "plt.title('Actual Value: {}'.format(y_test[1]))\n",
    "prediction=model.predict(x_test)\n",
    "plt.axis('off')\n",
    "print('Predicted Value: ',np.argmax(prediction[1]))\n",
    "if(y_test[1]==(np.argmax(prediction[1]))):\n",
    "  print('Successful prediction')\n",
    "else:\n",
    "  print('Unsuccessful prediction')"
   ]
  },
  {
   "cell_type": "code",
   "execution_count": null,
   "id": "dd43e95b",
   "metadata": {},
   "outputs": [],
   "source": []
  }
 ],
 "metadata": {
  "kernelspec": {
   "display_name": "Python 3 (ipykernel)",
   "language": "python",
   "name": "python3"
  },
  "language_info": {
   "codemirror_mode": {
    "name": "ipython",
    "version": 3
   },
   "file_extension": ".py",
   "mimetype": "text/x-python",
   "name": "python",
   "nbconvert_exporter": "python",
   "pygments_lexer": "ipython3",
   "version": "3.9.6"
  }
 },
 "nbformat": 4,
 "nbformat_minor": 5
}
